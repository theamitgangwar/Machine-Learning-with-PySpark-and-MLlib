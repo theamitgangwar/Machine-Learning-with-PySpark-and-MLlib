{
 "cells": [
  {
   "cell_type": "code",
   "execution_count": 1,
   "metadata": {},
   "outputs": [],
   "source": [
    "#%load_ext nb_black\n",
    "import findspark\n",
    "findspark.init() \n",
    "findspark.find()\n",
    "from pyspark.sql import SparkSession\n",
    "import pyspark.sql.functions as F\n",
    "import pyspark.sql.types as T\n",
    "\n",
    "spark = SparkSession.builder.getOrCreate()\n",
    "spark = SparkSession.builder.appName(\"Classification with Spark\").getOrCreate()"
   ]
  },
  {
   "cell_type": "markdown",
   "metadata": {},
   "source": [
    "**Note**\n",
    "\n",
    "spark.mllib library contains the legacy API built on top of RDDs and hence all functionalities of mllib work in RDD.\n",
    "\n",
    "spark.ml library provides higher-level API built on top of DataFrames for constructing ML pipelines and it works on DataFrames."
   ]
  },
  {
   "cell_type": "markdown",
   "metadata": {},
   "source": [
    "## Data loading"
   ]
  },
  {
   "cell_type": "code",
   "execution_count": 75,
   "metadata": {},
   "outputs": [
    {
     "data": {
      "text/html": [
       "<div>\n",
       "<style scoped>\n",
       "    .dataframe tbody tr th:only-of-type {\n",
       "        vertical-align: middle;\n",
       "    }\n",
       "\n",
       "    .dataframe tbody tr th {\n",
       "        vertical-align: top;\n",
       "    }\n",
       "\n",
       "    .dataframe thead th {\n",
       "        text-align: right;\n",
       "    }\n",
       "</style>\n",
       "<table border=\"1\" class=\"dataframe\">\n",
       "  <thead>\n",
       "    <tr style=\"text-align: right;\">\n",
       "      <th></th>\n",
       "      <th>id</th>\n",
       "      <th>cat0</th>\n",
       "      <th>cat1</th>\n",
       "      <th>cat2</th>\n",
       "      <th>cat3</th>\n",
       "      <th>cat4</th>\n",
       "      <th>cat5</th>\n",
       "      <th>cat6</th>\n",
       "      <th>cat7</th>\n",
       "      <th>cat8</th>\n",
       "      <th>...</th>\n",
       "      <th>cont2</th>\n",
       "      <th>cont3</th>\n",
       "      <th>cont4</th>\n",
       "      <th>cont5</th>\n",
       "      <th>cont6</th>\n",
       "      <th>cont7</th>\n",
       "      <th>cont8</th>\n",
       "      <th>cont9</th>\n",
       "      <th>cont10</th>\n",
       "      <th>target</th>\n",
       "    </tr>\n",
       "  </thead>\n",
       "  <tbody>\n",
       "    <tr>\n",
       "      <th>0</th>\n",
       "      <td>0</td>\n",
       "      <td>A</td>\n",
       "      <td>I</td>\n",
       "      <td>A</td>\n",
       "      <td>B</td>\n",
       "      <td>B</td>\n",
       "      <td>BI</td>\n",
       "      <td>A</td>\n",
       "      <td>S</td>\n",
       "      <td>Q</td>\n",
       "      <td>...</td>\n",
       "      <td>0.759439</td>\n",
       "      <td>0.795549</td>\n",
       "      <td>0.681917</td>\n",
       "      <td>0.621672</td>\n",
       "      <td>0.592184</td>\n",
       "      <td>0.791921</td>\n",
       "      <td>0.815254</td>\n",
       "      <td>0.965006</td>\n",
       "      <td>0.665915</td>\n",
       "      <td>0</td>\n",
       "    </tr>\n",
       "    <tr>\n",
       "      <th>1</th>\n",
       "      <td>1</td>\n",
       "      <td>A</td>\n",
       "      <td>I</td>\n",
       "      <td>A</td>\n",
       "      <td>A</td>\n",
       "      <td>E</td>\n",
       "      <td>BI</td>\n",
       "      <td>K</td>\n",
       "      <td>W</td>\n",
       "      <td>AD</td>\n",
       "      <td>...</td>\n",
       "      <td>0.386385</td>\n",
       "      <td>0.541366</td>\n",
       "      <td>0.388982</td>\n",
       "      <td>0.357778</td>\n",
       "      <td>0.600044</td>\n",
       "      <td>0.408701</td>\n",
       "      <td>0.399353</td>\n",
       "      <td>0.927406</td>\n",
       "      <td>0.493729</td>\n",
       "      <td>0</td>\n",
       "    </tr>\n",
       "    <tr>\n",
       "      <th>2</th>\n",
       "      <td>2</td>\n",
       "      <td>A</td>\n",
       "      <td>K</td>\n",
       "      <td>A</td>\n",
       "      <td>A</td>\n",
       "      <td>E</td>\n",
       "      <td>BI</td>\n",
       "      <td>A</td>\n",
       "      <td>E</td>\n",
       "      <td>BM</td>\n",
       "      <td>...</td>\n",
       "      <td>0.343255</td>\n",
       "      <td>0.616352</td>\n",
       "      <td>0.793687</td>\n",
       "      <td>0.552877</td>\n",
       "      <td>0.352113</td>\n",
       "      <td>0.388835</td>\n",
       "      <td>0.412303</td>\n",
       "      <td>0.292696</td>\n",
       "      <td>0.549452</td>\n",
       "      <td>0</td>\n",
       "    </tr>\n",
       "    <tr>\n",
       "      <th>3</th>\n",
       "      <td>3</td>\n",
       "      <td>A</td>\n",
       "      <td>K</td>\n",
       "      <td>A</td>\n",
       "      <td>C</td>\n",
       "      <td>E</td>\n",
       "      <td>BI</td>\n",
       "      <td>A</td>\n",
       "      <td>Y</td>\n",
       "      <td>AD</td>\n",
       "      <td>...</td>\n",
       "      <td>0.831147</td>\n",
       "      <td>0.807807</td>\n",
       "      <td>0.800032</td>\n",
       "      <td>0.619147</td>\n",
       "      <td>0.221789</td>\n",
       "      <td>0.897617</td>\n",
       "      <td>0.633669</td>\n",
       "      <td>0.760318</td>\n",
       "      <td>0.934242</td>\n",
       "      <td>0</td>\n",
       "    </tr>\n",
       "    <tr>\n",
       "      <th>4</th>\n",
       "      <td>4</td>\n",
       "      <td>A</td>\n",
       "      <td>I</td>\n",
       "      <td>G</td>\n",
       "      <td>B</td>\n",
       "      <td>E</td>\n",
       "      <td>BI</td>\n",
       "      <td>C</td>\n",
       "      <td>G</td>\n",
       "      <td>Q</td>\n",
       "      <td>...</td>\n",
       "      <td>0.338818</td>\n",
       "      <td>0.277308</td>\n",
       "      <td>0.610578</td>\n",
       "      <td>0.128291</td>\n",
       "      <td>0.578764</td>\n",
       "      <td>0.279167</td>\n",
       "      <td>0.351103</td>\n",
       "      <td>0.357084</td>\n",
       "      <td>0.328960</td>\n",
       "      <td>1</td>\n",
       "    </tr>\n",
       "    <tr>\n",
       "      <th>...</th>\n",
       "      <td>...</td>\n",
       "      <td>...</td>\n",
       "      <td>...</td>\n",
       "      <td>...</td>\n",
       "      <td>...</td>\n",
       "      <td>...</td>\n",
       "      <td>...</td>\n",
       "      <td>...</td>\n",
       "      <td>...</td>\n",
       "      <td>...</td>\n",
       "      <td>...</td>\n",
       "      <td>...</td>\n",
       "      <td>...</td>\n",
       "      <td>...</td>\n",
       "      <td>...</td>\n",
       "      <td>...</td>\n",
       "      <td>...</td>\n",
       "      <td>...</td>\n",
       "      <td>...</td>\n",
       "      <td>...</td>\n",
       "      <td>...</td>\n",
       "    </tr>\n",
       "    <tr>\n",
       "      <th>299995</th>\n",
       "      <td>499993</td>\n",
       "      <td>A</td>\n",
       "      <td>N</td>\n",
       "      <td>F</td>\n",
       "      <td>A</td>\n",
       "      <td>E</td>\n",
       "      <td>BU</td>\n",
       "      <td>A</td>\n",
       "      <td>AS</td>\n",
       "      <td>K</td>\n",
       "      <td>...</td>\n",
       "      <td>0.662428</td>\n",
       "      <td>0.671927</td>\n",
       "      <td>0.390566</td>\n",
       "      <td>0.145840</td>\n",
       "      <td>0.262767</td>\n",
       "      <td>0.514248</td>\n",
       "      <td>0.519340</td>\n",
       "      <td>0.617436</td>\n",
       "      <td>0.688007</td>\n",
       "      <td>0</td>\n",
       "    </tr>\n",
       "    <tr>\n",
       "      <th>299996</th>\n",
       "      <td>499995</td>\n",
       "      <td>A</td>\n",
       "      <td>K</td>\n",
       "      <td>A</td>\n",
       "      <td>A</td>\n",
       "      <td>G</td>\n",
       "      <td>BI</td>\n",
       "      <td>A</td>\n",
       "      <td>K</td>\n",
       "      <td>AE</td>\n",
       "      <td>...</td>\n",
       "      <td>0.821657</td>\n",
       "      <td>0.620356</td>\n",
       "      <td>0.384891</td>\n",
       "      <td>0.735879</td>\n",
       "      <td>0.547731</td>\n",
       "      <td>0.726653</td>\n",
       "      <td>0.470575</td>\n",
       "      <td>0.275743</td>\n",
       "      <td>0.638939</td>\n",
       "      <td>0</td>\n",
       "    </tr>\n",
       "    <tr>\n",
       "      <th>299997</th>\n",
       "      <td>499996</td>\n",
       "      <td>A</td>\n",
       "      <td>G</td>\n",
       "      <td>M</td>\n",
       "      <td>A</td>\n",
       "      <td>H</td>\n",
       "      <td>BI</td>\n",
       "      <td>C</td>\n",
       "      <td>L</td>\n",
       "      <td>F</td>\n",
       "      <td>...</td>\n",
       "      <td>0.407037</td>\n",
       "      <td>0.232436</td>\n",
       "      <td>0.832482</td>\n",
       "      <td>0.810663</td>\n",
       "      <td>0.596939</td>\n",
       "      <td>0.308821</td>\n",
       "      <td>0.373997</td>\n",
       "      <td>0.518024</td>\n",
       "      <td>0.452144</td>\n",
       "      <td>1</td>\n",
       "    </tr>\n",
       "    <tr>\n",
       "      <th>299998</th>\n",
       "      <td>499997</td>\n",
       "      <td>B</td>\n",
       "      <td>H</td>\n",
       "      <td>A</td>\n",
       "      <td>D</td>\n",
       "      <td>B</td>\n",
       "      <td>BI</td>\n",
       "      <td>A</td>\n",
       "      <td>AA</td>\n",
       "      <td>AX</td>\n",
       "      <td>...</td>\n",
       "      <td>0.808045</td>\n",
       "      <td>0.630708</td>\n",
       "      <td>0.346898</td>\n",
       "      <td>0.735147</td>\n",
       "      <td>0.563488</td>\n",
       "      <td>0.609836</td>\n",
       "      <td>0.680430</td>\n",
       "      <td>0.318453</td>\n",
       "      <td>0.335822</td>\n",
       "      <td>0</td>\n",
       "    </tr>\n",
       "    <tr>\n",
       "      <th>299999</th>\n",
       "      <td>499999</td>\n",
       "      <td>A</td>\n",
       "      <td>F</td>\n",
       "      <td>C</td>\n",
       "      <td>A</td>\n",
       "      <td>E</td>\n",
       "      <td>BI</td>\n",
       "      <td>C</td>\n",
       "      <td>AV</td>\n",
       "      <td>S</td>\n",
       "      <td>...</td>\n",
       "      <td>0.775451</td>\n",
       "      <td>0.848696</td>\n",
       "      <td>0.819377</td>\n",
       "      <td>0.355467</td>\n",
       "      <td>0.218153</td>\n",
       "      <td>0.968856</td>\n",
       "      <td>0.823655</td>\n",
       "      <td>0.330515</td>\n",
       "      <td>0.972569</td>\n",
       "      <td>0</td>\n",
       "    </tr>\n",
       "  </tbody>\n",
       "</table>\n",
       "<p>300000 rows × 32 columns</p>\n",
       "</div>"
      ],
      "text/plain": [
       "            id cat0 cat1 cat2 cat3 cat4 cat5 cat6 cat7 cat8  ...     cont2  \\\n",
       "0            0    A    I    A    B    B   BI    A    S    Q  ...  0.759439   \n",
       "1            1    A    I    A    A    E   BI    K    W   AD  ...  0.386385   \n",
       "2            2    A    K    A    A    E   BI    A    E   BM  ...  0.343255   \n",
       "3            3    A    K    A    C    E   BI    A    Y   AD  ...  0.831147   \n",
       "4            4    A    I    G    B    E   BI    C    G    Q  ...  0.338818   \n",
       "...        ...  ...  ...  ...  ...  ...  ...  ...  ...  ...  ...       ...   \n",
       "299995  499993    A    N    F    A    E   BU    A   AS    K  ...  0.662428   \n",
       "299996  499995    A    K    A    A    G   BI    A    K   AE  ...  0.821657   \n",
       "299997  499996    A    G    M    A    H   BI    C    L    F  ...  0.407037   \n",
       "299998  499997    B    H    A    D    B   BI    A   AA   AX  ...  0.808045   \n",
       "299999  499999    A    F    C    A    E   BI    C   AV    S  ...  0.775451   \n",
       "\n",
       "           cont3     cont4     cont5     cont6     cont7     cont8     cont9  \\\n",
       "0       0.795549  0.681917  0.621672  0.592184  0.791921  0.815254  0.965006   \n",
       "1       0.541366  0.388982  0.357778  0.600044  0.408701  0.399353  0.927406   \n",
       "2       0.616352  0.793687  0.552877  0.352113  0.388835  0.412303  0.292696   \n",
       "3       0.807807  0.800032  0.619147  0.221789  0.897617  0.633669  0.760318   \n",
       "4       0.277308  0.610578  0.128291  0.578764  0.279167  0.351103  0.357084   \n",
       "...          ...       ...       ...       ...       ...       ...       ...   \n",
       "299995  0.671927  0.390566  0.145840  0.262767  0.514248  0.519340  0.617436   \n",
       "299996  0.620356  0.384891  0.735879  0.547731  0.726653  0.470575  0.275743   \n",
       "299997  0.232436  0.832482  0.810663  0.596939  0.308821  0.373997  0.518024   \n",
       "299998  0.630708  0.346898  0.735147  0.563488  0.609836  0.680430  0.318453   \n",
       "299999  0.848696  0.819377  0.355467  0.218153  0.968856  0.823655  0.330515   \n",
       "\n",
       "          cont10 target  \n",
       "0       0.665915      0  \n",
       "1       0.493729      0  \n",
       "2       0.549452      0  \n",
       "3       0.934242      0  \n",
       "4       0.328960      1  \n",
       "...          ...    ...  \n",
       "299995  0.688007      0  \n",
       "299996  0.638939      0  \n",
       "299997  0.452144      1  \n",
       "299998  0.335822      0  \n",
       "299999  0.972569      0  \n",
       "\n",
       "[300000 rows x 32 columns]"
      ]
     },
     "execution_count": 75,
     "metadata": {},
     "output_type": "execute_result"
    }
   ],
   "source": [
    "#reading csv file\n",
    "df = spark.read.csv(\"C:/Users/toami/OneDrive/Desktop/Data Science/SEM2/BIG DATA/SPARK/assignment/tabular-playground-series-mar-2021/train.csv\", inferSchema=True, header=True)\n",
    "df2=df.toPandas()\n",
    "df2"
   ]
  },
  {
   "cell_type": "markdown",
   "metadata": {},
   "source": [
    "## Data Cleaning"
   ]
  },
  {
   "cell_type": "code",
   "execution_count": 76,
   "metadata": {},
   "outputs": [],
   "source": [
    "#dropping id column\n",
    "df = df.drop(\"id\")"
   ]
  },
  {
   "cell_type": "code",
   "execution_count": 77,
   "metadata": {},
   "outputs": [
    {
     "data": {
      "text/html": [
       "<div>\n",
       "<style scoped>\n",
       "    .dataframe tbody tr th:only-of-type {\n",
       "        vertical-align: middle;\n",
       "    }\n",
       "\n",
       "    .dataframe tbody tr th {\n",
       "        vertical-align: top;\n",
       "    }\n",
       "\n",
       "    .dataframe thead th {\n",
       "        text-align: right;\n",
       "    }\n",
       "</style>\n",
       "<table border=\"1\" class=\"dataframe\">\n",
       "  <thead>\n",
       "    <tr style=\"text-align: right;\">\n",
       "      <th></th>\n",
       "      <th>cat0</th>\n",
       "      <th>cat1</th>\n",
       "      <th>cat2</th>\n",
       "      <th>cat3</th>\n",
       "      <th>cat4</th>\n",
       "      <th>cat5</th>\n",
       "      <th>cat6</th>\n",
       "      <th>cat7</th>\n",
       "      <th>cat8</th>\n",
       "      <th>cat9</th>\n",
       "      <th>...</th>\n",
       "      <th>cont2</th>\n",
       "      <th>cont3</th>\n",
       "      <th>cont4</th>\n",
       "      <th>cont5</th>\n",
       "      <th>cont6</th>\n",
       "      <th>cont7</th>\n",
       "      <th>cont8</th>\n",
       "      <th>cont9</th>\n",
       "      <th>cont10</th>\n",
       "      <th>target</th>\n",
       "    </tr>\n",
       "  </thead>\n",
       "  <tbody>\n",
       "    <tr>\n",
       "      <th>0</th>\n",
       "      <td>0</td>\n",
       "      <td>0</td>\n",
       "      <td>0</td>\n",
       "      <td>0</td>\n",
       "      <td>0</td>\n",
       "      <td>0</td>\n",
       "      <td>0</td>\n",
       "      <td>0</td>\n",
       "      <td>0</td>\n",
       "      <td>0</td>\n",
       "      <td>...</td>\n",
       "      <td>0</td>\n",
       "      <td>0</td>\n",
       "      <td>0</td>\n",
       "      <td>0</td>\n",
       "      <td>0</td>\n",
       "      <td>0</td>\n",
       "      <td>0</td>\n",
       "      <td>0</td>\n",
       "      <td>0</td>\n",
       "      <td>0</td>\n",
       "    </tr>\n",
       "  </tbody>\n",
       "</table>\n",
       "<p>1 rows × 31 columns</p>\n",
       "</div>"
      ],
      "text/plain": [
       "   cat0  cat1  cat2  cat3  cat4  cat5  cat6  cat7  cat8  cat9  ...  cont2  \\\n",
       "0     0     0     0     0     0     0     0     0     0     0  ...      0   \n",
       "\n",
       "   cont3  cont4  cont5  cont6  cont7  cont8  cont9  cont10  target  \n",
       "0      0      0      0      0      0      0      0       0       0  \n",
       "\n",
       "[1 rows x 31 columns]"
      ]
     },
     "execution_count": 77,
     "metadata": {},
     "output_type": "execute_result"
    }
   ],
   "source": [
    "#checking null and NaN values in train data\n",
    "from pyspark.sql.functions import isnan, when, count, col\n",
    "df3=df.select([count(when(isnan(c) | col(c).isNull(), c)).alias(c) for c in df.columns]).toPandas()\n",
    "df3"
   ]
  },
  {
   "cell_type": "code",
   "execution_count": 90,
   "metadata": {},
   "outputs": [],
   "source": [
    "#Removing duplicates and NAs from train data\n",
    "#df=df.dropna()\n",
    "df=df.dropDuplicates()"
   ]
  },
  {
   "cell_type": "markdown",
   "metadata": {},
   "source": [
    "## Data Statistics"
   ]
  },
  {
   "cell_type": "code",
   "execution_count": 93,
   "metadata": {},
   "outputs": [
    {
     "name": "stdout",
     "output_type": "stream",
     "text": [
      "DataFrame  have 300000 rows and 31 columns\n"
     ]
    }
   ],
   "source": [
    "#number of rows and columns\n",
    "print(\"DataFrame  have {0} rows and {1} columns\" .format(df.count(), len(df.columns)))"
   ]
  },
  {
   "cell_type": "code",
   "execution_count": 78,
   "metadata": {},
   "outputs": [
    {
     "name": "stdout",
     "output_type": "stream",
     "text": [
      "Number of numericla features is  12\n",
      "Number of categorical features is  19\n"
     ]
    }
   ],
   "source": [
    "#categorical and numerical columns\n",
    "def get_dtype(df):\n",
    "    cat=[]\n",
    "    num=[]\n",
    "    for x in df.dtypes:\n",
    "        if x[1]=='string':\n",
    "            cat.append(x[0])\n",
    "        else:\n",
    "            num.append(x[0])\n",
    "    return (cat,num)\n",
    "cat=get_dtype(df)[0]\n",
    "num=get_dtype(df)[1]\n",
    "print(\"Number of numericla features is \",len(num))\n",
    "print(\"Number of categorical features is \",len(cat))"
   ]
  },
  {
   "cell_type": "markdown",
   "metadata": {},
   "source": [
    "## summary statistics"
   ]
  },
  {
   "cell_type": "code",
   "execution_count": 6,
   "metadata": {},
   "outputs": [
    {
     "data": {
      "text/html": [
       "<div>\n",
       "<style scoped>\n",
       "    .dataframe tbody tr th:only-of-type {\n",
       "        vertical-align: middle;\n",
       "    }\n",
       "\n",
       "    .dataframe tbody tr th {\n",
       "        vertical-align: top;\n",
       "    }\n",
       "\n",
       "    .dataframe thead th {\n",
       "        text-align: right;\n",
       "    }\n",
       "</style>\n",
       "<table border=\"1\" class=\"dataframe\">\n",
       "  <thead>\n",
       "    <tr style=\"text-align: right;\">\n",
       "      <th></th>\n",
       "      <th>0</th>\n",
       "      <th>1</th>\n",
       "      <th>2</th>\n",
       "      <th>3</th>\n",
       "      <th>4</th>\n",
       "    </tr>\n",
       "  </thead>\n",
       "  <tbody>\n",
       "    <tr>\n",
       "      <th>summary</th>\n",
       "      <td>count</td>\n",
       "      <td>mean</td>\n",
       "      <td>stddev</td>\n",
       "      <td>min</td>\n",
       "      <td>max</td>\n",
       "    </tr>\n",
       "    <tr>\n",
       "      <th>cont0</th>\n",
       "      <td>300000</td>\n",
       "      <td>0.5047487736598572</td>\n",
       "      <td>0.2067876274838243</td>\n",
       "      <td>-0.049561669672344405</td>\n",
       "      <td>1.0045591801131812</td>\n",
       "    </tr>\n",
       "    <tr>\n",
       "      <th>cont1</th>\n",
       "      <td>300000</td>\n",
       "      <td>0.49407325218061093</td>\n",
       "      <td>0.21303658009419457</td>\n",
       "      <td>0.08448021241887371</td>\n",
       "      <td>1.0099581520188259</td>\n",
       "    </tr>\n",
       "    <tr>\n",
       "      <th>cont2</th>\n",
       "      <td>300000</td>\n",
       "      <td>0.5166315346233755</td>\n",
       "      <td>0.21485103126763158</td>\n",
       "      <td>0.09449347051544164</td>\n",
       "      <td>1.0166000095661805</td>\n",
       "    </tr>\n",
       "    <tr>\n",
       "      <th>cont3</th>\n",
       "      <td>300000</td>\n",
       "      <td>0.47423477096676664</td>\n",
       "      <td>0.21663581794247805</td>\n",
       "      <td>-0.045315544085700266</td>\n",
       "      <td>0.9521869709580062</td>\n",
       "    </tr>\n",
       "    <tr>\n",
       "      <th>cont4</th>\n",
       "      <td>300000</td>\n",
       "      <td>0.5048478037630462</td>\n",
       "      <td>0.2274738365500208</td>\n",
       "      <td>0.16807077712366736</td>\n",
       "      <td>0.8585777089071495</td>\n",
       "    </tr>\n",
       "    <tr>\n",
       "      <th>cont5</th>\n",
       "      <td>300000</td>\n",
       "      <td>0.5022572768886236</td>\n",
       "      <td>0.24124318958524635</td>\n",
       "      <td>-0.03637924631902362</td>\n",
       "      <td>0.8530217010483966</td>\n",
       "    </tr>\n",
       "    <tr>\n",
       "      <th>cont6</th>\n",
       "      <td>300000</td>\n",
       "      <td>0.48822873988229226</td>\n",
       "      <td>0.211334505011812</td>\n",
       "      <td>0.00519916083437319</td>\n",
       "      <td>0.9665529928913124</td>\n",
       "    </tr>\n",
       "    <tr>\n",
       "      <th>cont7</th>\n",
       "      <td>300000</td>\n",
       "      <td>0.501738573431499</td>\n",
       "      <td>0.2034959382761562</td>\n",
       "      <td>0.09090146898913247</td>\n",
       "      <td>1.0358178214967186</td>\n",
       "    </tr>\n",
       "    <tr>\n",
       "      <th>cont8</th>\n",
       "      <td>300000</td>\n",
       "      <td>0.48807430240553795</td>\n",
       "      <td>0.17904837510647764</td>\n",
       "      <td>0.02413894871570244</td>\n",
       "      <td>1.0558848532285834</td>\n",
       "    </tr>\n",
       "    <tr>\n",
       "      <th>cont9</th>\n",
       "      <td>300000</td>\n",
       "      <td>0.4694962058186407</td>\n",
       "      <td>0.19451620178098422</td>\n",
       "      <td>0.21486570036463995</td>\n",
       "      <td>1.0056523359235363</td>\n",
       "    </tr>\n",
       "    <tr>\n",
       "      <th>cont10</th>\n",
       "      <td>300000</td>\n",
       "      <td>0.5082296619945454</td>\n",
       "      <td>0.20339310505692887</td>\n",
       "      <td>0.097788710197006</td>\n",
       "      <td>1.0113307797568882</td>\n",
       "    </tr>\n",
       "    <tr>\n",
       "      <th>target</th>\n",
       "      <td>300000</td>\n",
       "      <td>0.26487</td>\n",
       "      <td>0.44126469624074893</td>\n",
       "      <td>0</td>\n",
       "      <td>1</td>\n",
       "    </tr>\n",
       "  </tbody>\n",
       "</table>\n",
       "</div>"
      ],
      "text/plain": [
       "              0                    1                    2  \\\n",
       "summary   count                 mean               stddev   \n",
       "cont0    300000   0.5047487736598572   0.2067876274838243   \n",
       "cont1    300000  0.49407325218061093  0.21303658009419457   \n",
       "cont2    300000   0.5166315346233755  0.21485103126763158   \n",
       "cont3    300000  0.47423477096676664  0.21663581794247805   \n",
       "cont4    300000   0.5048478037630462   0.2274738365500208   \n",
       "cont5    300000   0.5022572768886236  0.24124318958524635   \n",
       "cont6    300000  0.48822873988229226    0.211334505011812   \n",
       "cont7    300000    0.501738573431499   0.2034959382761562   \n",
       "cont8    300000  0.48807430240553795  0.17904837510647764   \n",
       "cont9    300000   0.4694962058186407  0.19451620178098422   \n",
       "cont10   300000   0.5082296619945454  0.20339310505692887   \n",
       "target   300000              0.26487  0.44126469624074893   \n",
       "\n",
       "                             3                   4  \n",
       "summary                    min                 max  \n",
       "cont0    -0.049561669672344405  1.0045591801131812  \n",
       "cont1      0.08448021241887371  1.0099581520188259  \n",
       "cont2      0.09449347051544164  1.0166000095661805  \n",
       "cont3    -0.045315544085700266  0.9521869709580062  \n",
       "cont4      0.16807077712366736  0.8585777089071495  \n",
       "cont5     -0.03637924631902362  0.8530217010483966  \n",
       "cont6      0.00519916083437319  0.9665529928913124  \n",
       "cont7      0.09090146898913247  1.0358178214967186  \n",
       "cont8      0.02413894871570244  1.0558848532285834  \n",
       "cont9      0.21486570036463995  1.0056523359235363  \n",
       "cont10       0.097788710197006  1.0113307797568882  \n",
       "target                       0                   1  "
      ]
     },
     "execution_count": 6,
     "metadata": {},
     "output_type": "execute_result"
    }
   ],
   "source": [
    "#summary of numerical features\n",
    "df.select(num).describe().toPandas().transpose()"
   ]
  },
  {
   "cell_type": "code",
   "execution_count": 109,
   "metadata": {
    "scrolled": true
   },
   "outputs": [
    {
     "data": {
      "text/html": [
       "<div>\n",
       "<style scoped>\n",
       "    .dataframe tbody tr th:only-of-type {\n",
       "        vertical-align: middle;\n",
       "    }\n",
       "\n",
       "    .dataframe tbody tr th {\n",
       "        vertical-align: top;\n",
       "    }\n",
       "\n",
       "    .dataframe thead th {\n",
       "        text-align: right;\n",
       "    }\n",
       "</style>\n",
       "<table border=\"1\" class=\"dataframe\">\n",
       "  <thead>\n",
       "    <tr style=\"text-align: right;\">\n",
       "      <th></th>\n",
       "      <th>Feature</th>\n",
       "      <th>Unique_Values</th>\n",
       "      <th>Count</th>\n",
       "    </tr>\n",
       "  </thead>\n",
       "  <tbody>\n",
       "    <tr>\n",
       "      <th>0</th>\n",
       "      <td>cat0</td>\n",
       "      <td>[A, B]</td>\n",
       "      <td>2</td>\n",
       "    </tr>\n",
       "    <tr>\n",
       "      <th>1</th>\n",
       "      <td>cat1</td>\n",
       "      <td>[I, K, A, F, L, N, J, M, O, B, H, G, C, D, E]</td>\n",
       "      <td>15</td>\n",
       "    </tr>\n",
       "    <tr>\n",
       "      <th>2</th>\n",
       "      <td>cat2</td>\n",
       "      <td>[A, G, C, O, D, F, Q, J, L, I, M, H, U, N, R, ...</td>\n",
       "      <td>19</td>\n",
       "    </tr>\n",
       "    <tr>\n",
       "      <th>3</th>\n",
       "      <td>cat3</td>\n",
       "      <td>[B, A, C, D, G, N, H, F, E, K, I, J, L]</td>\n",
       "      <td>13</td>\n",
       "    </tr>\n",
       "    <tr>\n",
       "      <th>4</th>\n",
       "      <td>cat4</td>\n",
       "      <td>[B, E, H, I, D, F, G, M, K, J, T, C, L, P, S, ...</td>\n",
       "      <td>20</td>\n",
       "    </tr>\n",
       "    <tr>\n",
       "      <th>5</th>\n",
       "      <td>cat5</td>\n",
       "      <td>[BI, AB, BU, M, T, K, L, CG, BG, CI, N, G, X, ...</td>\n",
       "      <td>84</td>\n",
       "    </tr>\n",
       "    <tr>\n",
       "      <th>6</th>\n",
       "      <td>cat6</td>\n",
       "      <td>[A, K, C, I, G, E, M, F, O, D, Q, S, B, Y, U, W]</td>\n",
       "      <td>16</td>\n",
       "    </tr>\n",
       "    <tr>\n",
       "      <th>7</th>\n",
       "      <td>cat7</td>\n",
       "      <td>[S, W, E, Y, G, AV, AF, AK, AH, AN, J, H, U, A...</td>\n",
       "      <td>51</td>\n",
       "    </tr>\n",
       "    <tr>\n",
       "      <th>8</th>\n",
       "      <td>cat8</td>\n",
       "      <td>[Q, AD, BM, Y, AG, AE, AX, H, BD, AO, X, L, M,...</td>\n",
       "      <td>61</td>\n",
       "    </tr>\n",
       "    <tr>\n",
       "      <th>9</th>\n",
       "      <td>cat9</td>\n",
       "      <td>[A, F, L, C, E, I, J, N, V, R, D, X, B, Q, W, ...</td>\n",
       "      <td>19</td>\n",
       "    </tr>\n",
       "    <tr>\n",
       "      <th>10</th>\n",
       "      <td>cat10</td>\n",
       "      <td>[LO, HJ, DJ, KV, DP, GE, HQ, HC, EK, GS, HG, B...</td>\n",
       "      <td>299</td>\n",
       "    </tr>\n",
       "    <tr>\n",
       "      <th>11</th>\n",
       "      <td>cat11</td>\n",
       "      <td>[A, B]</td>\n",
       "      <td>2</td>\n",
       "    </tr>\n",
       "    <tr>\n",
       "      <th>12</th>\n",
       "      <td>cat12</td>\n",
       "      <td>[A, B]</td>\n",
       "      <td>2</td>\n",
       "    </tr>\n",
       "    <tr>\n",
       "      <th>13</th>\n",
       "      <td>cat13</td>\n",
       "      <td>[A, B]</td>\n",
       "      <td>2</td>\n",
       "    </tr>\n",
       "    <tr>\n",
       "      <th>14</th>\n",
       "      <td>cat14</td>\n",
       "      <td>[A, B]</td>\n",
       "      <td>2</td>\n",
       "    </tr>\n",
       "    <tr>\n",
       "      <th>15</th>\n",
       "      <td>cat15</td>\n",
       "      <td>[B, D, A, C]</td>\n",
       "      <td>4</td>\n",
       "    </tr>\n",
       "    <tr>\n",
       "      <th>16</th>\n",
       "      <td>cat16</td>\n",
       "      <td>[D, B, C, A]</td>\n",
       "      <td>4</td>\n",
       "    </tr>\n",
       "    <tr>\n",
       "      <th>17</th>\n",
       "      <td>cat17</td>\n",
       "      <td>[D, C, B, A]</td>\n",
       "      <td>4</td>\n",
       "    </tr>\n",
       "    <tr>\n",
       "      <th>18</th>\n",
       "      <td>cat18</td>\n",
       "      <td>[B, C, D, A]</td>\n",
       "      <td>4</td>\n",
       "    </tr>\n",
       "  </tbody>\n",
       "</table>\n",
       "</div>"
      ],
      "text/plain": [
       "   Feature                                      Unique_Values  Count\n",
       "0     cat0                                             [A, B]      2\n",
       "1     cat1      [I, K, A, F, L, N, J, M, O, B, H, G, C, D, E]     15\n",
       "2     cat2  [A, G, C, O, D, F, Q, J, L, I, M, H, U, N, R, ...     19\n",
       "3     cat3            [B, A, C, D, G, N, H, F, E, K, I, J, L]     13\n",
       "4     cat4  [B, E, H, I, D, F, G, M, K, J, T, C, L, P, S, ...     20\n",
       "5     cat5  [BI, AB, BU, M, T, K, L, CG, BG, CI, N, G, X, ...     84\n",
       "6     cat6   [A, K, C, I, G, E, M, F, O, D, Q, S, B, Y, U, W]     16\n",
       "7     cat7  [S, W, E, Y, G, AV, AF, AK, AH, AN, J, H, U, A...     51\n",
       "8     cat8  [Q, AD, BM, Y, AG, AE, AX, H, BD, AO, X, L, M,...     61\n",
       "9     cat9  [A, F, L, C, E, I, J, N, V, R, D, X, B, Q, W, ...     19\n",
       "10   cat10  [LO, HJ, DJ, KV, DP, GE, HQ, HC, EK, GS, HG, B...    299\n",
       "11   cat11                                             [A, B]      2\n",
       "12   cat12                                             [A, B]      2\n",
       "13   cat13                                             [A, B]      2\n",
       "14   cat14                                             [A, B]      2\n",
       "15   cat15                                       [B, D, A, C]      4\n",
       "16   cat16                                       [D, B, C, A]      4\n",
       "17   cat17                                       [D, C, B, A]      4\n",
       "18   cat18                                       [B, C, D, A]      4"
      ]
     },
     "execution_count": 109,
     "metadata": {},
     "output_type": "execute_result"
    }
   ],
   "source": [
    "#summary of categorical features\n",
    "d = []\n",
    "df1=df[cat].toPandas()\n",
    "for x in cat:\n",
    "    d.append((x, df1[x].unique(), df1[x].nunique()))\n",
    "\n",
    "df_cat=pd.DataFrame(d, columns=(\"Feature\",\"Unique_Values\",\"Count\"))\n",
    "df_cat"
   ]
  },
  {
   "cell_type": "markdown",
   "metadata": {},
   "source": [
    "### Finding Correlation\n",
    "To check if numerical features are highly correlated. If features are correlated, they can be considered for dimension reduction."
   ]
  },
  {
   "cell_type": "code",
   "execution_count": 109,
   "metadata": {},
   "outputs": [
    {
     "name": "stderr",
     "output_type": "stream",
     "text": [
      "Exception ignored in: <function JavaModelWrapper.__del__ at 0x000001B03F844948>\n",
      "Traceback (most recent call last):\n",
      "  File \"C:\\Program Files\\Spark\\spark-3.1.1-bin-hadoop2.7\\python\\pyspark\\mllib\\common.py\", line 137, in __del__\n",
      "    self._sc._gateway.detach(self._java_model)\n",
      "AttributeError: 'BinaryClassificationMetrics' object has no attribute '_sc'\n"
     ]
    },
    {
     "data": {
      "image/png": "[encoded data removed]",
      "text/plain": [
       "<Figure size 576x576 with 144 Axes>"
      ]
     },
     "metadata": {
      "needs_background": "light"
     },
     "output_type": "display_data"
    }
   ],
   "source": [
    "from pandas.plotting import scatter_matrix\n",
    "import pandas as pd\n",
    "df2=df[num]\n",
    "numeric_data = df2.select(num).toPandas()\n",
    "axs = pd.plotting.scatter_matrix(numeric_data, figsize=(8, 8));\n",
    "n = len(numeric_data.columns)\n",
    "for i in range(n):\n",
    "    v = axs[i, 0]\n",
    "    v.yaxis.label.set_rotation(0)\n",
    "    v.yaxis.label.set_ha('right')\n",
    "    v.set_yticks(())\n",
    "    h = axs[n-1, i]\n",
    "    h.xaxis.label.set_rotation(90)\n",
    "    h.set_xticks(())"
   ]
  },
  {
   "cell_type": "markdown",
   "metadata": {},
   "source": [
    "## Data Preperation"
   ]
  },
  {
   "cell_type": "markdown",
   "metadata": {},
   "source": [
    "### Train/Test split"
   ]
  },
  {
   "cell_type": "code",
   "execution_count": 110,
   "metadata": {
    "scrolled": false
   },
   "outputs": [
    {
     "name": "stdout",
     "output_type": "stream",
     "text": [
      "Train set length: 209932 records\n",
      "Test set length: 90068 records\n"
     ]
    }
   ],
   "source": [
    "train, test = df.randomSplit([0.7, 0.3], seed=7)\n",
    "\n",
    "print(f\"Train set length: {train.count()} records\")\n",
    "print(f\"Test set length: {test.count()} records\")"
   ]
  },
  {
   "cell_type": "code",
   "execution_count": 111,
   "metadata": {},
   "outputs": [],
   "source": [
    "#separating categorical and numerical features\n",
    "cat_train = [x for (x, dataType) in train.dtypes if dataType == \"string\"]\n",
    "num_train = [x for (x, dataType) in train.dtypes if ((dataType == \"double\") & (x != \"target\"))]"
   ]
  },
  {
   "cell_type": "markdown",
   "metadata": {},
   "source": [
    "### String Indexing"
   ]
  },
  {
   "cell_type": "code",
   "execution_count": 112,
   "metadata": {},
   "outputs": [],
   "source": [
    "#stringindexing actaully transform categorical data into numeric but with order. Therefore after stringindexing we do \n",
    "#one-hot encoding because our features are not ordinal, they are just nominal data\n",
    "#importing OneHotEncoder and StringIndexer\n",
    "from pyspark.ml.feature import (OneHotEncoder,StringIndexer,)\n",
    "#creating string indexer for categorical columns\n",
    "string_indexer = [StringIndexer(inputCol=x, outputCol=x + \"_StringIndexer\", handleInvalid=\"skip\") for x in cat_train]"
   ]
  },
  {
   "cell_type": "markdown",
   "metadata": {},
   "source": [
    "### One hot encoding"
   ]
  },
  {
   "cell_type": "code",
   "execution_count": 113,
   "metadata": {},
   "outputs": [],
   "source": [
    "#creating one-hot encoder for string indexed columns\n",
    "one_hot_encoder = [\n",
    "    OneHotEncoder(\n",
    "        inputCols=[f\"{x}_StringIndexer\" for x in cat_train],\n",
    "        outputCols=[f\"{x}_OneHotEncoder\" for x in cat_train])]"
   ]
  },
  {
   "cell_type": "markdown",
   "metadata": {},
   "source": [
    "### Vector Assembling"
   ]
  },
  {
   "cell_type": "code",
   "execution_count": 114,
   "metadata": {},
   "outputs": [],
   "source": [
    "#creating vector assembler\n",
    "from pyspark.ml.feature import VectorAssembler\n",
    "assemblerInput = [x for x in num_train]\n",
    "assemblerInput += [f\"{x}_OneHotEncoder\" for x in cat_train]\n",
    "vector_assembler = VectorAssembler(inputCols=assemblerInput, outputCol=\"VectorAssembler_features\")"
   ]
  },
  {
   "cell_type": "markdown",
   "metadata": {},
   "source": [
    "### Data Normalizer"
   ]
  },
  {
   "cell_type": "code",
   "execution_count": 115,
   "metadata": {},
   "outputs": [],
   "source": [
    "from pyspark.ml.feature import Normalizer\n",
    "#creating normalizer\n",
    "normalizer = Normalizer(inputCol=\"VectorAssembler_features\", outputCol=\"norm_VectorAssembler_features\", p=1.0)"
   ]
  },
  {
   "cell_type": "markdown",
   "metadata": {},
   "source": [
    "### Creating Data preprocessing pipeline (String indexing, One-Hot encoding, Vector assembling and Normalisation)"
   ]
  },
  {
   "cell_type": "code",
   "execution_count": 116,
   "metadata": {},
   "outputs": [],
   "source": [
    "#Creating pipeline\n",
    "#setting stages for Data preprocessing pipeline \n",
    "stages = []\n",
    "stages += string_indexer\n",
    "stages += one_hot_encoder\n",
    "stages += [vector_assembler]\n",
    "stages += [normalizer]"
   ]
  },
  {
   "cell_type": "code",
   "execution_count": 117,
   "metadata": {},
   "outputs": [],
   "source": [
    "#creating Data preprocessing pipeline\n",
    "#%%time\n",
    "from pyspark.ml import Pipeline\n",
    "pipeline = Pipeline().setStages(stages)\n",
    "model = pipeline.fit(train)\n",
    "\n",
    "#transforming test and train data using Data preprocessing pipeline\n",
    "train_df = model.transform(train)\n",
    "test_df = model.transform(test)\n",
    "#train_df.printSchema()"
   ]
  },
  {
   "cell_type": "code",
   "execution_count": 118,
   "metadata": {},
   "outputs": [],
   "source": [
    "test_data = test_df.select(\n",
    "    F.col(\"norm_VectorAssembler_features\").alias(\"features\"),\n",
    "    F.col(\"target\").alias(\"label\"),)\n",
    "\n",
    "train_data = train_df.select(\n",
    "    F.col(\"norm_VectorAssembler_features\").alias(\"features\"),\n",
    "    F.col(\"target\").alias(\"label\"),)"
   ]
  },
  {
   "cell_type": "markdown",
   "metadata": {},
   "source": [
    "## Model building"
   ]
  },
  {
   "cell_type": "markdown",
   "metadata": {},
   "source": [
    "### Logistic Regression"
   ]
  },
  {
   "cell_type": "code",
   "execution_count": 119,
   "metadata": {},
   "outputs": [],
   "source": [
    "#K-FOLD CROSS VALIDATION\n",
    "#%%time\n",
    "from pyspark.ml.classification import LogisticRegression\n",
    "from pyspark.ml.evaluation import BinaryClassificationEvaluator\n",
    "from pyspark.ml.tuning import CrossValidator, ParamGridBuilder\n",
    "\n",
    "lr = LogisticRegression(maxIter=10)\n",
    "\n",
    "#elasticNetParam is regularization parameter, to prevent overfitting\n",
    "#fitIntercept is for weather we want to fit intercept for logistic or not\n",
    "paramGrid = ParamGridBuilder() \\\n",
    "    .addGrid(lr.regParam, [0.1, 0.01]) \\\n",
    "    .addGrid(lr.fitIntercept, [False, True]) \\\n",
    "    .addGrid(lr.elasticNetParam, [0.0, 0.5, 1.0]) \\\n",
    "    .build()\n",
    "\n",
    "crossval = CrossValidator(estimator=lr,\n",
    "                          estimatorParamMaps=paramGrid,\n",
    "                          evaluator=BinaryClassificationEvaluator(),\n",
    "                          numFolds=3)  # use 3+ folds in practice\n",
    "\n",
    "# Run cross-validation, and choose the best set of parameters.\n",
    "#t1 = train_data.sample(False, 0.1, 42)\n",
    "#cvModel = crossval.fit(t1)\n",
    "cvModel = crossval.fit(train_data)"
   ]
  },
  {
   "cell_type": "code",
   "execution_count": 122,
   "metadata": {},
   "outputs": [
    {
     "name": "stdout",
     "output_type": "stream",
     "text": [
      "AUC: 0.883997520316556\n",
      "Intercept: [-1.0228688577149896]\n",
      "Accuracy: 0.8449688470552369\n",
      "FPR: 0.31124942495337754\n",
      "TPR: 0.8449688470552369\n",
      "F-measure: 0.8385922798640018\n",
      "Precision: 0.8391567913485447\n",
      "Recall: 0.8449688470552369\n"
     ]
    }
   ],
   "source": [
    "#EVALUATION\n",
    "#print(\"Coefficients: \\n\" + str(cvModel.coefficientMatrix))\n",
    "trainingSummary = cvModel.bestModel.summary\n",
    "AUC= trainingSummary.areaUnderROC\n",
    "Intercept=cvModel.bestModel.interceptVector\n",
    "accuracy = trainingSummary.accuracy\n",
    "falsePositiveRate = trainingSummary.weightedFalsePositiveRate\n",
    "truePositiveRate = trainingSummary.weightedTruePositiveRate\n",
    "fMeasure = trainingSummary.weightedFMeasure()\n",
    "precision = trainingSummary.weightedPrecision\n",
    "recall = trainingSummary.weightedRecall\n",
    "print(\"AUC: %s\\nIntercept: %s\\nAccuracy: %s\\nFPR: %s\\nTPR: %s\\nF-measure: %s\\nPrecision: %s\\nRecall: %s\"\n",
    "      % (AUC,Intercept,accuracy, falsePositiveRate, truePositiveRate, fMeasure, precision, recall))"
   ]
  },
  {
   "cell_type": "code",
   "execution_count": null,
   "metadata": {},
   "outputs": [],
   "source": [
    "#checing accuracy of all possible models\n",
    "#cvModel.avgMetrics"
   ]
  },
  {
   "cell_type": "code",
   "execution_count": 218,
   "metadata": {
    "scrolled": false
   },
   "outputs": [
    {
     "data": {
      "image/png": "[encoded data removed]",
      "text/plain": [
       "<Figure size 432x288 with 1 Axes>"
      ]
     },
     "metadata": {
      "needs_background": "light"
     },
     "output_type": "display_data"
    },
    {
     "name": "stdout",
     "output_type": "stream",
     "text": [
      "Training set areaUnderROC: 0.883997520316556\n"
     ]
    }
   ],
   "source": [
    "#plotting AUC\n",
    "import matplotlib.pyplot as plt\n",
    "import numpy as np\n",
    "roc = trainingSummary.roc.toPandas()\n",
    "plt.plot(roc['FPR'],roc['TPR'])\n",
    "plt.ylabel('False Positive Rate')\n",
    "plt.xlabel('True Positive Rate')\n",
    "plt.title('ROC Curve')\n",
    "plt.show()\n",
    "print('Training set areaUnderROC: ' + str(trainingSummary.areaUnderROC))"
   ]
  },
  {
   "cell_type": "code",
   "execution_count": 219,
   "metadata": {},
   "outputs": [
    {
     "data": {
      "image/png": "[encoded data removed]",
      "text/plain": [
       "<Figure size 432x288 with 1 Axes>"
      ]
     },
     "metadata": {
      "needs_background": "light"
     },
     "output_type": "display_data"
    }
   ],
   "source": [
    "pr = trainingSummary.pr.toPandas()\n",
    "plt.plot(pr['recall'],pr['precision'])\n",
    "plt.ylabel('Precision')\n",
    "plt.xlabel('Recall')\n",
    "plt.show()"
   ]
  },
  {
   "cell_type": "markdown",
   "metadata": {},
   "source": [
    "### SVM Model"
   ]
  },
  {
   "cell_type": "code",
   "execution_count": 120,
   "metadata": {},
   "outputs": [],
   "source": [
    "from pyspark.ml.classification import LinearSVC\n",
    "lsvc = LinearSVC(maxIter=10)\n",
    "\n",
    "#elasticNetParam is regularization parameter, to prevent overfitting\n",
    "#fitIntercept is for weather we want to fit intercept for logistic or not\n",
    "paramGrid = ParamGridBuilder() \\\n",
    "    .addGrid(lsvc.regParam, [0.1, 0.01]) \\\n",
    "    .addGrid(lsvc.fitIntercept, [False, True]) \\\n",
    "    .build()\n",
    "\n",
    "crossval = CrossValidator(estimator=lsvc,\n",
    "                          estimatorParamMaps=paramGrid,\n",
    "                          evaluator=BinaryClassificationEvaluator(),\n",
    "                          numFolds=3)  # use 3+ folds in practice\n",
    "\n",
    "# Run cross-validation, and choose the best set of parameters.\n",
    "lsvc_cvModel = crossval.fit(train_data)"
   ]
  },
  {
   "cell_type": "code",
   "execution_count": 150,
   "metadata": {
    "scrolled": true
   },
   "outputs": [
    {
     "name": "stdout",
     "output_type": "stream",
     "text": [
      "Intercept: 0.0\n",
      "Test accuracy = 0.844969\n",
      "Summary Stats\n",
      "Precision = 0.8391567913485447\n",
      "Recall = 0.8449688470552369\n"
     ]
    }
   ],
   "source": [
    "from pyspark.ml.evaluation import BinaryClassificationEvaluator, MulticlassClassificationEvaluator\n",
    "\n",
    "# Compute predictions for test data\n",
    "predictions = lsvc_cvModel.bestModel.transform(test_data)\n",
    "\n",
    "# Show the computed predictions and compare with the original labels\n",
    "#predictions.select(\"features\", \"label\", \"prediction\").show(10)\n",
    "\n",
    "# Define the evaluator method with the corresponding metric and compute the classification error on test data\n",
    "evaluator = MulticlassClassificationEvaluator().setMetricName('accuracy')\n",
    "#accuracy = evaluator.evaluate(predictions) \n",
    "\n",
    "# Show the accuracy\n",
    "print(\"Intercept: \" + str(lsvc_cvModel.bestModel.intercept))\n",
    "print(\"Test accuracy = %g\" % (accuracy))\n",
    "print(\"Summary Stats\")\n",
    "print(\"Precision = %s\" % precision)\n",
    "print(\"Recall = %s\" % recall)\n",
    "#print(\"F1 Score = %s\" % f1Score)"
   ]
  },
  {
   "cell_type": "markdown",
   "metadata": {},
   "source": [
    "### Multilayer perceptron classifier\n",
    "Multilayer perceptron classifier (MLPC) is a classifier based on the feedforward artificial neural network. "
   ]
  },
  {
   "cell_type": "code",
   "execution_count": 158,
   "metadata": {},
   "outputs": [],
   "source": [
    "from pyspark.ml.classification import MultilayerPerceptronClassifier\n",
    "from pyspark.ml.evaluation import MulticlassClassificationEvaluator\n",
    "#x is number of input variables\n",
    "x=train_data.schema[\"features\"].metadata[\"ml_attr\"][\"num_attrs\"]\n",
    "layers = [x, 5, 4, 2]\n",
    "# create the trainer and set its parameters\n",
    "trainer = MultilayerPerceptronClassifier(maxIter=100, layers=layers, blockSize=128, seed=1234)\n",
    "# train the model\n",
    "model = trainer.fit(train_data)"
   ]
  },
  {
   "cell_type": "code",
   "execution_count": 159,
   "metadata": {},
   "outputs": [],
   "source": [
    "predictions_mpc = model.transform(test_data)"
   ]
  },
  {
   "cell_type": "markdown",
   "metadata": {},
   "source": [
    "## Model Evaluation"
   ]
  },
  {
   "cell_type": "code",
   "execution_count": 205,
   "metadata": {},
   "outputs": [],
   "source": [
    "from pyspark.ml.evaluation import BinaryClassificationEvaluator, MulticlassClassificationEvaluator\n",
    "#Make predictions on the test set.\n",
    "predictions_lr = cvModel.bestModel.transform(test_data)\n",
    "predictions_svm = lsvc_cvModel.bestModel.transform(test_data)\n",
    "predictions_mpc = model.transform(test_data)\n",
    "\n",
    "#making evaluator objects\n",
    "evaluator_multi = MulticlassClassificationEvaluator(labelCol=\"label\", predictionCol=\"prediction\", metricName=\"accuracy\")\n",
    "evaluator_bi = BinaryClassificationEvaluator()"
   ]
  },
  {
   "cell_type": "code",
   "execution_count": 217,
   "metadata": {
    "scrolled": true
   },
   "outputs": [
    {
     "name": "stdout",
     "output_type": "stream",
     "text": [
      "Linear Support Vector Machine\n",
      "Accuracy: 0.7595070227058236 \n",
      "Test Area Under ROC: 0.8668606600147624\n",
      "True Positives: 2254 \n",
      "True Negatives: 66151 \n",
      "False Positives: 50 \n",
      "False Positives: 21610 \n",
      "Recall: 0.09445189406637614 \n",
      "Precision: 0.9782986111111112 \n",
      "F1 score: 0.17227147661265668 \n"
     ]
    }
   ],
   "source": [
    "#function to generate evaluation metrics\n",
    "def evaluation(prediction, pre,name):\n",
    "    df = globals()[prediction]\n",
    "\n",
    "    tp = df[(df.label == 1) & (df.prediction == 1)].count()\n",
    "    tn = df[(df.label == 0) & (df.prediction == 0)].count()\n",
    "    fp = df[(df.label == 0) & (df.prediction == 1)].count()\n",
    "    fn = df[(df.label == 1) & (df.prediction == 0)].count()\n",
    "\n",
    "    if(tp + fn == 0.0):\n",
    "        r = 0.0\n",
    "        p = float(tp) / (tp + fp)\n",
    "    elif(tp + fp == 0.0):\n",
    "        r = float(tp) / (tp + fn)\n",
    "        p = 0.0\n",
    "    else:\n",
    "        r = float(tp) / (tp + fn)\n",
    "        p = float(tp) / (tp + fp)\n",
    "                \n",
    "    f1=0 if(p+r==0) else 2*((p*r)/(p+r))\n",
    "    \n",
    "    Accuracy = evaluator_multi.evaluate(pre)\n",
    "    Test_Area_Under_ROC =  evaluator_bi.evaluate(pre)\n",
    "    print(name)\n",
    "    print(\"Accuracy: {} \\nTest Area Under ROC: {}\\nTrue Positives: {} \\nTrue Negatives: {} \\nFalse Positives: {} \\nFalse Positives: {} \\nRecall: {} \\nPrecision: {} \\nF1 score: {} \".\n",
    "          format(Accuracy,Test_Area_Under_ROC,tp,tn,fp,fn,r,p,f1))\n",
    "\n",
    "evaluation(\"predictions_svm\",predictions_svm, \"Linear Support Vector Machine\")"
   ]
  }
 ],
 "metadata": {
  "kernelspec": {
   "display_name": "Python 3",
   "language": "python",
   "name": "python3"
  },
  "language_info": {
   "codemirror_mode": {
    "name": "ipython",
    "version": 3
   },
   "file_extension": ".py",
   "mimetype": "text/x-python",
   "name": "python",
   "nbconvert_exporter": "python",
   "pygments_lexer": "ipython3",
   "version": "3.7.6"
  },
  "toc": {
   "base_numbering": 1,
   "nav_menu": {},
   "number_sections": true,
   "sideBar": true,
   "skip_h1_title": false,
   "title_cell": "Table of Contents",
   "title_sidebar": "Contents",
   "toc_cell": false,
   "toc_position": {},
   "toc_section_display": true,
   "toc_window_display": false
  }
 },
 "nbformat": 4,
 "nbformat_minor": 4
}
